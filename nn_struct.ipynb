{
 "cells": [
  {
   "cell_type": "code",
   "execution_count": 1,
   "metadata": {},
   "outputs": [],
   "source": [
    "import pandas as pd\n",
    "import numpy as np\n",
    "import torch\n",
    "import matplotlib.pyplot as plt"
   ]
  },
  {
   "cell_type": "markdown",
   "metadata": {},
   "source": [
    "## Train data"
   ]
  },
  {
   "cell_type": "code",
   "execution_count": 2,
   "metadata": {},
   "outputs": [
    {
     "data": {
      "text/html": [
       "<div>\n",
       "<style scoped>\n",
       "    .dataframe tbody tr th:only-of-type {\n",
       "        vertical-align: middle;\n",
       "    }\n",
       "\n",
       "    .dataframe tbody tr th {\n",
       "        vertical-align: top;\n",
       "    }\n",
       "\n",
       "    .dataframe thead th {\n",
       "        text-align: right;\n",
       "    }\n",
       "</style>\n",
       "<table border=\"1\" class=\"dataframe\">\n",
       "  <thead>\n",
       "    <tr style=\"text-align: right;\">\n",
       "      <th></th>\n",
       "      <th>T</th>\n",
       "      <th>0</th>\n",
       "      <th>1</th>\n",
       "      <th>2</th>\n",
       "      <th>3</th>\n",
       "      <th>4</th>\n",
       "      <th>5</th>\n",
       "      <th>6</th>\n",
       "      <th>7</th>\n",
       "      <th>8</th>\n",
       "      <th>...</th>\n",
       "      <th>567</th>\n",
       "      <th>568</th>\n",
       "      <th>569</th>\n",
       "      <th>570</th>\n",
       "      <th>571</th>\n",
       "      <th>572</th>\n",
       "      <th>573</th>\n",
       "      <th>574</th>\n",
       "      <th>575</th>\n",
       "      <th>Y</th>\n",
       "    </tr>\n",
       "  </thead>\n",
       "  <tbody>\n",
       "    <tr>\n",
       "      <td>0</td>\n",
       "      <td>0.500239</td>\n",
       "      <td>-1.0</td>\n",
       "      <td>-1.0</td>\n",
       "      <td>-1.0</td>\n",
       "      <td>-1.0</td>\n",
       "      <td>-1.0</td>\n",
       "      <td>-1.0</td>\n",
       "      <td>-1.0</td>\n",
       "      <td>-1.0</td>\n",
       "      <td>-1.0</td>\n",
       "      <td>...</td>\n",
       "      <td>-1.0</td>\n",
       "      <td>-1.0</td>\n",
       "      <td>-1.0</td>\n",
       "      <td>-1.0</td>\n",
       "      <td>-1.0</td>\n",
       "      <td>-1.0</td>\n",
       "      <td>-1.0</td>\n",
       "      <td>-1.0</td>\n",
       "      <td>-1.0</td>\n",
       "      <td>0</td>\n",
       "    </tr>\n",
       "    <tr>\n",
       "      <td>1</td>\n",
       "      <td>0.500239</td>\n",
       "      <td>-1.0</td>\n",
       "      <td>-1.0</td>\n",
       "      <td>-1.0</td>\n",
       "      <td>-1.0</td>\n",
       "      <td>-1.0</td>\n",
       "      <td>-1.0</td>\n",
       "      <td>-1.0</td>\n",
       "      <td>-1.0</td>\n",
       "      <td>-1.0</td>\n",
       "      <td>...</td>\n",
       "      <td>-1.0</td>\n",
       "      <td>-1.0</td>\n",
       "      <td>-1.0</td>\n",
       "      <td>-1.0</td>\n",
       "      <td>-1.0</td>\n",
       "      <td>-1.0</td>\n",
       "      <td>-1.0</td>\n",
       "      <td>-1.0</td>\n",
       "      <td>-1.0</td>\n",
       "      <td>0</td>\n",
       "    </tr>\n",
       "    <tr>\n",
       "      <td>2</td>\n",
       "      <td>0.500239</td>\n",
       "      <td>-1.0</td>\n",
       "      <td>-1.0</td>\n",
       "      <td>-1.0</td>\n",
       "      <td>-1.0</td>\n",
       "      <td>-1.0</td>\n",
       "      <td>-1.0</td>\n",
       "      <td>-1.0</td>\n",
       "      <td>-1.0</td>\n",
       "      <td>-1.0</td>\n",
       "      <td>...</td>\n",
       "      <td>-1.0</td>\n",
       "      <td>-1.0</td>\n",
       "      <td>-1.0</td>\n",
       "      <td>-1.0</td>\n",
       "      <td>-1.0</td>\n",
       "      <td>-1.0</td>\n",
       "      <td>-1.0</td>\n",
       "      <td>-1.0</td>\n",
       "      <td>-1.0</td>\n",
       "      <td>0</td>\n",
       "    </tr>\n",
       "    <tr>\n",
       "      <td>3</td>\n",
       "      <td>0.500239</td>\n",
       "      <td>-1.0</td>\n",
       "      <td>-1.0</td>\n",
       "      <td>-1.0</td>\n",
       "      <td>-1.0</td>\n",
       "      <td>-1.0</td>\n",
       "      <td>-1.0</td>\n",
       "      <td>-1.0</td>\n",
       "      <td>-1.0</td>\n",
       "      <td>-1.0</td>\n",
       "      <td>...</td>\n",
       "      <td>-1.0</td>\n",
       "      <td>-1.0</td>\n",
       "      <td>-1.0</td>\n",
       "      <td>-1.0</td>\n",
       "      <td>-1.0</td>\n",
       "      <td>-1.0</td>\n",
       "      <td>-1.0</td>\n",
       "      <td>-1.0</td>\n",
       "      <td>-1.0</td>\n",
       "      <td>0</td>\n",
       "    </tr>\n",
       "    <tr>\n",
       "      <td>4</td>\n",
       "      <td>0.500239</td>\n",
       "      <td>-1.0</td>\n",
       "      <td>-1.0</td>\n",
       "      <td>-1.0</td>\n",
       "      <td>-1.0</td>\n",
       "      <td>-1.0</td>\n",
       "      <td>-1.0</td>\n",
       "      <td>-1.0</td>\n",
       "      <td>-1.0</td>\n",
       "      <td>-1.0</td>\n",
       "      <td>...</td>\n",
       "      <td>-1.0</td>\n",
       "      <td>-1.0</td>\n",
       "      <td>-1.0</td>\n",
       "      <td>-1.0</td>\n",
       "      <td>-1.0</td>\n",
       "      <td>-1.0</td>\n",
       "      <td>-1.0</td>\n",
       "      <td>-1.0</td>\n",
       "      <td>-1.0</td>\n",
       "      <td>0</td>\n",
       "    </tr>\n",
       "  </tbody>\n",
       "</table>\n",
       "<p>5 rows × 578 columns</p>\n",
       "</div>"
      ],
      "text/plain": [
       "          T    0    1    2    3    4    5    6    7    8  ...  567  568  569  \\\n",
       "0  0.500239 -1.0 -1.0 -1.0 -1.0 -1.0 -1.0 -1.0 -1.0 -1.0  ... -1.0 -1.0 -1.0   \n",
       "1  0.500239 -1.0 -1.0 -1.0 -1.0 -1.0 -1.0 -1.0 -1.0 -1.0  ... -1.0 -1.0 -1.0   \n",
       "2  0.500239 -1.0 -1.0 -1.0 -1.0 -1.0 -1.0 -1.0 -1.0 -1.0  ... -1.0 -1.0 -1.0   \n",
       "3  0.500239 -1.0 -1.0 -1.0 -1.0 -1.0 -1.0 -1.0 -1.0 -1.0  ... -1.0 -1.0 -1.0   \n",
       "4  0.500239 -1.0 -1.0 -1.0 -1.0 -1.0 -1.0 -1.0 -1.0 -1.0  ... -1.0 -1.0 -1.0   \n",
       "\n",
       "   570  571  572  573  574  575  Y  \n",
       "0 -1.0 -1.0 -1.0 -1.0 -1.0 -1.0  0  \n",
       "1 -1.0 -1.0 -1.0 -1.0 -1.0 -1.0  0  \n",
       "2 -1.0 -1.0 -1.0 -1.0 -1.0 -1.0  0  \n",
       "3 -1.0 -1.0 -1.0 -1.0 -1.0 -1.0  0  \n",
       "4 -1.0 -1.0 -1.0 -1.0 -1.0 -1.0  0  \n",
       "\n",
       "[5 rows x 578 columns]"
      ]
     },
     "execution_count": 2,
     "metadata": {},
     "output_type": "execute_result"
    }
   ],
   "source": [
    "L = 24\n",
    "path = ''\n",
    "df = pd.read_csv(f\"{path}results/p4_L{L}_cut_train_enc1.csv\").loc[:,'T':]\n",
    "df.head()"
   ]
  },
  {
   "cell_type": "code",
   "execution_count": 3,
   "metadata": {},
   "outputs": [
    {
     "data": {
      "text/plain": [
       "(torch.Size([39600, 1, 24, 24]),\n",
       " torch.Size([39600]),\n",
       " torch.Size([4400, 1, 24, 24]),\n",
       " torch.Size([4400]),\n",
       " torch.Size([0, 1, 24, 24]),\n",
       " torch.Size([0]))"
      ]
     },
     "execution_count": 3,
     "metadata": {},
     "output_type": "execute_result"
    }
   ],
   "source": [
    "to_ = str(L**2-1)\n",
    "\n",
    "permute = df.sample(n=len(df),random_state=1).reset_index(drop=True)\n",
    "train_size, valid_size, test_size = 0.9, 0.1, 0.0\n",
    "\n",
    "train = permute[:int(len(permute)*train_size)]\n",
    "valid = permute[int(len(permute)*train_size):int(len(df)*(train_size+valid_size))]\n",
    "test = permute[int(len(permute)*(train_size+valid_size)):]\n",
    "\n",
    "X_train = torch.Tensor(train.loc[:,'0':to_].to_numpy()).float()\n",
    "Y_train = torch.Tensor(train.loc[:,'Y'].to_numpy()).long()\n",
    "T_train = torch.Tensor(train.loc[:,'T'].to_numpy())\n",
    "\n",
    "X_valid = torch.Tensor(valid.loc[:,'0':to_].to_numpy()).float()\n",
    "Y_valid = torch.Tensor(valid.loc[:,'Y'].to_numpy()).long()\n",
    "T_valid = torch.Tensor(valid.loc[:,'T'].to_numpy())\n",
    "\n",
    "X_test = torch.Tensor(test.loc[:,'0':to_].to_numpy()).float()\n",
    "Y_test = torch.Tensor(test.loc[:,'Y'].to_numpy()).long()\n",
    "T_test = torch.Tensor(test.loc[:,'T'].to_numpy())\n",
    "\n",
    "\n",
    "X_train = X_train.reshape(-1,1,L,L)\n",
    "X_valid = X_valid.reshape(-1,1,L,L)\n",
    "X_test = X_test.reshape(-1,1,L,L)\n",
    "\n",
    "\n",
    "X_train.shape, Y_train.shape, X_valid.shape, Y_valid.shape, X_test.shape, Y_test.shape"
   ]
  },
  {
   "cell_type": "markdown",
   "metadata": {},
   "source": [
    "## Test data"
   ]
  },
  {
   "cell_type": "code",
   "execution_count": 4,
   "metadata": {},
   "outputs": [
    {
     "data": {
      "text/html": [
       "<div>\n",
       "<style scoped>\n",
       "    .dataframe tbody tr th:only-of-type {\n",
       "        vertical-align: middle;\n",
       "    }\n",
       "\n",
       "    .dataframe tbody tr th {\n",
       "        vertical-align: top;\n",
       "    }\n",
       "\n",
       "    .dataframe thead th {\n",
       "        text-align: right;\n",
       "    }\n",
       "</style>\n",
       "<table border=\"1\" class=\"dataframe\">\n",
       "  <thead>\n",
       "    <tr style=\"text-align: right;\">\n",
       "      <th></th>\n",
       "      <th>T</th>\n",
       "      <th>0</th>\n",
       "      <th>1</th>\n",
       "      <th>2</th>\n",
       "      <th>3</th>\n",
       "      <th>4</th>\n",
       "      <th>5</th>\n",
       "      <th>6</th>\n",
       "      <th>7</th>\n",
       "      <th>8</th>\n",
       "      <th>...</th>\n",
       "      <th>567</th>\n",
       "      <th>568</th>\n",
       "      <th>569</th>\n",
       "      <th>570</th>\n",
       "      <th>571</th>\n",
       "      <th>572</th>\n",
       "      <th>573</th>\n",
       "      <th>574</th>\n",
       "      <th>575</th>\n",
       "      <th>Y</th>\n",
       "    </tr>\n",
       "  </thead>\n",
       "  <tbody>\n",
       "    <tr>\n",
       "      <td>66995</td>\n",
       "      <td>0.520239</td>\n",
       "      <td>1.0</td>\n",
       "      <td>1.0</td>\n",
       "      <td>1.0</td>\n",
       "      <td>1.0</td>\n",
       "      <td>1.0</td>\n",
       "      <td>1.0</td>\n",
       "      <td>1.0</td>\n",
       "      <td>1.0</td>\n",
       "      <td>1.0</td>\n",
       "      <td>...</td>\n",
       "      <td>1.0</td>\n",
       "      <td>1.0</td>\n",
       "      <td>1.0</td>\n",
       "      <td>1.0</td>\n",
       "      <td>1.0</td>\n",
       "      <td>1.0</td>\n",
       "      <td>1.0</td>\n",
       "      <td>1.0</td>\n",
       "      <td>1.0</td>\n",
       "      <td>0</td>\n",
       "    </tr>\n",
       "    <tr>\n",
       "      <td>66996</td>\n",
       "      <td>0.900239</td>\n",
       "      <td>1.0</td>\n",
       "      <td>-0.5</td>\n",
       "      <td>0.5</td>\n",
       "      <td>-0.5</td>\n",
       "      <td>-0.5</td>\n",
       "      <td>-0.5</td>\n",
       "      <td>-0.5</td>\n",
       "      <td>-0.5</td>\n",
       "      <td>-0.5</td>\n",
       "      <td>...</td>\n",
       "      <td>-0.5</td>\n",
       "      <td>-0.5</td>\n",
       "      <td>-0.5</td>\n",
       "      <td>-0.5</td>\n",
       "      <td>-0.5</td>\n",
       "      <td>-0.5</td>\n",
       "      <td>-0.5</td>\n",
       "      <td>-0.5</td>\n",
       "      <td>-0.5</td>\n",
       "      <td>0</td>\n",
       "    </tr>\n",
       "    <tr>\n",
       "      <td>66997</td>\n",
       "      <td>0.895539</td>\n",
       "      <td>-0.5</td>\n",
       "      <td>1.0</td>\n",
       "      <td>1.0</td>\n",
       "      <td>1.0</td>\n",
       "      <td>1.0</td>\n",
       "      <td>1.0</td>\n",
       "      <td>1.0</td>\n",
       "      <td>1.0</td>\n",
       "      <td>1.0</td>\n",
       "      <td>...</td>\n",
       "      <td>1.0</td>\n",
       "      <td>1.0</td>\n",
       "      <td>-0.5</td>\n",
       "      <td>1.0</td>\n",
       "      <td>1.0</td>\n",
       "      <td>1.0</td>\n",
       "      <td>1.0</td>\n",
       "      <td>1.0</td>\n",
       "      <td>1.0</td>\n",
       "      <td>0</td>\n",
       "    </tr>\n",
       "    <tr>\n",
       "      <td>66998</td>\n",
       "      <td>0.860239</td>\n",
       "      <td>1.0</td>\n",
       "      <td>0.5</td>\n",
       "      <td>0.5</td>\n",
       "      <td>0.5</td>\n",
       "      <td>0.5</td>\n",
       "      <td>0.5</td>\n",
       "      <td>0.5</td>\n",
       "      <td>0.5</td>\n",
       "      <td>0.5</td>\n",
       "      <td>...</td>\n",
       "      <td>0.5</td>\n",
       "      <td>0.5</td>\n",
       "      <td>0.5</td>\n",
       "      <td>0.5</td>\n",
       "      <td>0.5</td>\n",
       "      <td>0.5</td>\n",
       "      <td>0.5</td>\n",
       "      <td>-1.0</td>\n",
       "      <td>-1.0</td>\n",
       "      <td>0</td>\n",
       "    </tr>\n",
       "    <tr>\n",
       "      <td>66999</td>\n",
       "      <td>1.200239</td>\n",
       "      <td>0.5</td>\n",
       "      <td>0.5</td>\n",
       "      <td>-1.0</td>\n",
       "      <td>-1.0</td>\n",
       "      <td>0.5</td>\n",
       "      <td>-0.5</td>\n",
       "      <td>-1.0</td>\n",
       "      <td>-0.5</td>\n",
       "      <td>-0.5</td>\n",
       "      <td>...</td>\n",
       "      <td>0.5</td>\n",
       "      <td>0.5</td>\n",
       "      <td>0.5</td>\n",
       "      <td>-0.5</td>\n",
       "      <td>-0.5</td>\n",
       "      <td>-1.0</td>\n",
       "      <td>-1.0</td>\n",
       "      <td>-1.0</td>\n",
       "      <td>0.5</td>\n",
       "      <td>1</td>\n",
       "    </tr>\n",
       "  </tbody>\n",
       "</table>\n",
       "<p>5 rows × 578 columns</p>\n",
       "</div>"
      ],
      "text/plain": [
       "              T    0    1    2    3    4    5    6    7    8  ...  567  568  \\\n",
       "66995  0.520239  1.0  1.0  1.0  1.0  1.0  1.0  1.0  1.0  1.0  ...  1.0  1.0   \n",
       "66996  0.900239  1.0 -0.5  0.5 -0.5 -0.5 -0.5 -0.5 -0.5 -0.5  ... -0.5 -0.5   \n",
       "66997  0.895539 -0.5  1.0  1.0  1.0  1.0  1.0  1.0  1.0  1.0  ...  1.0  1.0   \n",
       "66998  0.860239  1.0  0.5  0.5  0.5  0.5  0.5  0.5  0.5  0.5  ...  0.5  0.5   \n",
       "66999  1.200239  0.5  0.5 -1.0 -1.0  0.5 -0.5 -1.0 -0.5 -0.5  ...  0.5  0.5   \n",
       "\n",
       "       569  570  571  572  573  574  575  Y  \n",
       "66995  1.0  1.0  1.0  1.0  1.0  1.0  1.0  0  \n",
       "66996 -0.5 -0.5 -0.5 -0.5 -0.5 -0.5 -0.5  0  \n",
       "66997 -0.5  1.0  1.0  1.0  1.0  1.0  1.0  0  \n",
       "66998  0.5  0.5  0.5  0.5  0.5 -1.0 -1.0  0  \n",
       "66999  0.5 -0.5 -0.5 -1.0 -1.0 -1.0  0.5  1  \n",
       "\n",
       "[5 rows x 578 columns]"
      ]
     },
     "execution_count": 4,
     "metadata": {},
     "output_type": "execute_result"
    }
   ],
   "source": [
    "tc = 1/(np.log(1+4**0.5)) ### 4-Potts\n",
    "df = pd.read_csv(f\"{path}results/p4_L{L}_cut_test_enc1.csv\").loc[:,'T':]     #\n",
    "df_4p = df.sample(n=len(df), random_state=1).reset_index(drop=True)\n",
    "df_4p.tail()"
   ]
  },
  {
   "cell_type": "code",
   "execution_count": 5,
   "metadata": {},
   "outputs": [
    {
     "data": {
      "text/plain": [
       "(torch.Size([67000, 1, 24, 24]), torch.Size([67000]), torch.Size([67000]))"
      ]
     },
     "execution_count": 5,
     "metadata": {},
     "output_type": "execute_result"
    }
   ],
   "source": [
    "X_test = torch.Tensor(df_4p.loc[:,'0':to_].to_numpy()).float()\n",
    "Y_test = torch.Tensor(df_4p.loc[:,'Y'].to_numpy()).long()\n",
    "T_test = torch.Tensor(df_4p.loc[:,'T'].to_numpy())\n",
    "X_test = X_test.reshape(-1,1,L,L)\n",
    "\n",
    "X_test.shape, Y_test.shape, T_test.shape"
   ]
  },
  {
   "cell_type": "markdown",
   "metadata": {},
   "source": [
    "## NN struct"
   ]
  },
  {
   "cell_type": "code",
   "execution_count": 6,
   "metadata": {},
   "outputs": [],
   "source": [
    "## Construct NN\n",
    "\n",
    "class ConvNN(torch.nn.Module):\n",
    "    def __init__(self):\n",
    "        super(ConvNN, self).__init__()\n",
    "        \n",
    "        self.conv1 = torch.nn.Conv2d(\n",
    "            in_channels=1, out_channels=64, kernel_size=2, padding=0, stride=2)\n",
    "        self.pool1 = torch.nn.MaxPool2d(kernel_size=2, stride=2)\n",
    "       \n",
    "        self.fc1   = torch.nn.Linear(int(L/4*L/4*64), 64)\n",
    "        self.act2  = torch.nn.ReLU()\n",
    "        \n",
    "        self.fc2   = torch.nn.Linear(64, 2)\n",
    "    \n",
    "    def forward(self, x):\n",
    "        \n",
    "        x = self.conv1(x)\n",
    "        x = self.pool1(x)\n",
    "        x = x.view(x.size(0), x.size(1) * x.size(2) * x.size(3))\n",
    "        x = self.fc1(x)\n",
    "        x = self.act2(x)\n",
    "        x = self.fc2(x)\n",
    "        return x\n",
    "    \n",
    "convnet = ConvNN()"
   ]
  },
  {
   "cell_type": "code",
   "execution_count": 7,
   "metadata": {},
   "outputs": [],
   "source": [
    "### If u have GPU-device\n",
    "device = torch.device('cuda:0' if torch.cuda.is_available() else 'cpu')\n",
    "convnet = convnet.to(device)\n",
    "\n",
    "loss = torch.nn.CrossEntropyLoss()       ### Loss CE\n",
    "# loss = torch.nn.BCEWithLogitsLoss()    ### Loss BCE\n",
    "optimizer = torch.optim.Adam(convnet.parameters(), lr=1.0e-4)\n",
    "m = torch.nn.Softmax(dim=1)"
   ]
  },
  {
   "cell_type": "code",
   "execution_count": 11,
   "metadata": {},
   "outputs": [
    {
     "name": "stdout",
     "output_type": "stream",
     "text": [
      "Epoch: \t 0 | curr:\t 1.0 | best: \t 1.0\n"
     ]
    },
    {
     "data": {
      "image/png": "[encoded data removed]",
      "text/plain": [
       "<Figure size 648x432 with 1 Axes>"
      ]
     },
     "metadata": {
      "needs_background": "light"
     },
     "output_type": "display_data"
    },
    {
     "name": "stdout",
     "output_type": "stream",
     "text": [
      "Epoch: \t 1 | curr:\t 1.0 | best: \t 1.0\n"
     ]
    },
    {
     "data": {
      "image/png": "[encoded data removed]",
      "text/plain": [
       "<Figure size 648x432 with 1 Axes>"
      ]
     },
     "metadata": {
      "needs_background": "light"
     },
     "output_type": "display_data"
    },
    {
     "name": "stdout",
     "output_type": "stream",
     "text": [
      "Epoch: \t 2 | curr:\t 1.0 | best: \t 1.0\n"
     ]
    },
    {
     "data": {
      "image/png": "[encoded data removed]",
      "text/plain": [
       "<Figure size 648x432 with 1 Axes>"
      ]
     },
     "metadata": {
      "needs_background": "light"
     },
     "output_type": "display_data"
    }
   ],
   "source": [
    "batch_size = 12\n",
    "np.random.seed(1234)\n",
    "\n",
    "test_accuracy_history = []\n",
    "test_loss_history = []\n",
    "best = 0\n",
    "\n",
    "X_valid = X_valid.to(device)\n",
    "Y_valid = Y_valid.to(device)\n",
    "\n",
    "X_test = X_test.to(device)\n",
    "T_test = T_test.to(device)\n",
    "\n",
    "for epoch in range(3):\n",
    "    order = np.random.permutation(len(X_train))\n",
    "    for start_index in range(0, len(X_train), batch_size):\n",
    "        optimizer.zero_grad()\n",
    "        \n",
    "        batch_indexes = order[start_index:start_index+batch_size]\n",
    "        \n",
    "        X_batch = X_train[batch_indexes].to(device)\n",
    "        Y_batch = Y_train[batch_indexes].to(device)\n",
    "        \n",
    "        preds = convnet.forward(X_batch) \n",
    "        \n",
    "        loss_value = loss(preds, Y_batch)\n",
    "        loss_value.backward()\n",
    "        \n",
    "        optimizer.step()\n",
    "        \n",
    "    test_preds = convnet.forward(X_valid)\n",
    "    test_loss_history.append(loss(test_preds, Y_valid).data.cpu())\n",
    "    \n",
    "    accuracy = (test_preds.argmax(dim=1) == Y_valid).float().mean().data.cpu()\n",
    "    test_accuracy_history.append(accuracy)\n",
    "    if accuracy > best:\n",
    "        best = accuracy\n",
    "    \n",
    "    print(f\"Epoch: \\t {epoch} | curr:\\t {accuracy} | best: \\t {best}\")\n",
    "    mean_, std_ = {},{}\n",
    "    for T in T_test.unique():\n",
    "        test_shape1 = X_test.reshape(-1,L*L)\n",
    "        test_set = test_shape1[T_test == T].reshape(-1,1,L,L)\n",
    "        preds = convnet.forward(test_set)\n",
    "        probas = m(preds)[:,0]\n",
    "        mean_[T] = np.mean(probas.data.cpu().numpy())\n",
    "        std_[T] = np.std(probas.data.cpu().numpy())\n",
    "\n",
    "    axis_x = [i.item() for i in mean_.keys()]\n",
    "    axis_yf = [i.item() for i in mean_.values()]\n",
    "    axis_yf_err = [i.item() for i in std_.values()]\n",
    "\n",
    "    plt.figure(figsize=(9,6))\n",
    "    plt.title(f\"4-Potts | L={L}\")\n",
    "    plt.plot(axis_x, axis_yf, '.', c='blue')\n",
    "    plt.errorbar(axis_x, axis_yf, yerr=axis_yf_err, fmt='none')\n",
    "    plt.axvline(tc, 0, 1, c='r', label='T_c', alpha=0.3)\n",
    "    plt.plot(axis_x, [0.5 for i in range(len(axis_x))], '-')\n",
    "    plt.grid(True)\n",
    "    plt.xlim((0.7, 1.1))\n",
    "    plt.ylim((-.1, 1.1))\n",
    "    plt.show()"
   ]
  },
  {
   "cell_type": "code",
   "execution_count": 12,
   "metadata": {},
   "outputs": [
    {
     "data": {
      "image/png": "[encoded data removed]",
      "text/plain": [
       "<Figure size 432x288 with 1 Axes>"
      ]
     },
     "metadata": {
      "needs_background": "light"
     },
     "output_type": "display_data"
    },
    {
     "data": {
      "image/png": "[encoded data removed]",
      "text/plain": [
       "<Figure size 432x288 with 1 Axes>"
      ]
     },
     "metadata": {
      "needs_background": "light"
     },
     "output_type": "display_data"
    }
   ],
   "source": [
    "plt.plot(test_accuracy_history,'.-')\n",
    "plt.title(f'L={L}. Accuracy')\n",
    "plt.show()\n",
    "plt.plot(test_loss_history, '.-')\n",
    "plt.title(f'L={L}. Loss')\n",
    "plt.show()"
   ]
  }
 ],
 "metadata": {
  "kernelspec": {
   "display_name": "Python 3",
   "language": "python",
   "name": "python3"
  },
  "language_info": {
   "codemirror_mode": {
    "name": "ipython",
    "version": 3
   },
   "file_extension": ".py",
   "mimetype": "text/x-python",
   "name": "python",
   "nbconvert_exporter": "python",
   "pygments_lexer": "ipython3",
   "version": "3.7.4"
  }
 },
 "nbformat": 4,
 "nbformat_minor": 2
}
